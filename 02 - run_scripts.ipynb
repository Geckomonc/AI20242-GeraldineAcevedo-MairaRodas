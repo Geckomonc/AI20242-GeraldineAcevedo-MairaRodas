{
  "nbformat": 4,
  "nbformat_minor": 0,
  "metadata": {
    "colab": {
      "provenance": [],
      "authorship_tag": "ABX9TyOAhdT06z4M24tLUJYPG5Y3",
      "include_colab_link": true
    },
    "kernelspec": {
      "name": "python3",
      "display_name": "Python 3"
    },
    "language_info": {
      "name": "python"
    }
  },
  "cells": [
    {
      "cell_type": "markdown",
      "metadata": {
        "id": "view-in-github",
        "colab_type": "text"
      },
      "source": [
        "<a href=\"https://colab.research.google.com/github/Geckomonc/AI20242-GeraldineAcevedo-MairaRodas/blob/main/02%20-%20run_scripts.ipynb\" target=\"_parent\"><img src=\"https://colab.research.google.com/assets/colab-badge.svg\" alt=\"Open In Colab\"/></a>"
      ]
    },
    {
      "cell_type": "code",
      "execution_count": 12,
      "metadata": {
        "id": "4O87vTRuSMK_"
      },
      "outputs": [],
      "source": [
        "train_data_file  = 'train_data.csv'\n",
        "test_input_file  = 'test_data_input.csv'\n",
        "test_target_file = 'test_data_target.csv'\n",
        "test_preds_file  = 'test_predictions.csv'\n",
        "model_file       = 'model.pkl'"
      ]
    },
    {
      "cell_type": "code",
      "source": [
        "import sys\n",
        "python = sys.executable"
      ],
      "metadata": {
        "id": "TLoHZGyVWd-d"
      },
      "execution_count": 13,
      "outputs": []
    },
    {
      "cell_type": "code",
      "source": [
        "!pip install loguru"
      ],
      "metadata": {
        "colab": {
          "base_uri": "https://localhost:8080/"
        },
        "id": "RPTu4UAZYnQQ",
        "outputId": "b1848150-c84c-4746-8678-71b8720309de"
      },
      "execution_count": 14,
      "outputs": [
        {
          "output_type": "stream",
          "name": "stdout",
          "text": [
            "Requirement already satisfied: loguru in /usr/local/lib/python3.11/dist-packages (0.7.3)\n"
          ]
        }
      ]
    },
    {
      "cell_type": "markdown",
      "source": [
        "#train a model and save it"
      ],
      "metadata": {
        "id": "vydwEChOWpK6"
      }
    },
    {
      "cell_type": "code",
      "source": [
        "!$python scripts/train.py --model_file $model_file --data_file $train_data_file  --overwrite_model"
      ],
      "metadata": {
        "colab": {
          "base_uri": "https://localhost:8080/"
        },
        "id": "e1rhzPBHWgDK",
        "outputId": "23d4c9b6-925c-4c25-8d50-be1ec8febe1d"
      },
      "execution_count": 15,
      "outputs": [
        {
          "output_type": "stream",
          "name": "stdout",
          "text": [
            "\u001b[32m2025-05-24 22:56:38.558\u001b[0m | \u001b[1mINFO    \u001b[0m | \u001b[36m__main__\u001b[0m:\u001b[36m<module>\u001b[0m:\u001b[36m23\u001b[0m - \u001b[1moverwriting existing model file model.pkl\u001b[0m\n",
            "\u001b[32m2025-05-24 22:56:38.558\u001b[0m | \u001b[1mINFO    \u001b[0m | \u001b[36m__main__\u001b[0m:\u001b[36m<module>\u001b[0m:\u001b[36m28\u001b[0m - \u001b[1mloading train data\u001b[0m\n",
            "\u001b[32m2025-05-24 22:56:38.793\u001b[0m | \u001b[1mINFO    \u001b[0m | \u001b[36m__main__\u001b[0m:\u001b[36m<module>\u001b[0m:\u001b[36m33\u001b[0m - \u001b[1mfitting model\u001b[0m\n",
            "\u001b[32m2025-05-24 22:56:38.891\u001b[0m | \u001b[1mINFO    \u001b[0m | \u001b[36m__main__\u001b[0m:\u001b[36m<module>\u001b[0m:\u001b[36m37\u001b[0m - \u001b[1msaving model to model.pkl\u001b[0m\n"
          ]
        }
      ]
    },
    {
      "cell_type": "markdown",
      "source": [
        "#make inference (predict) with a saved model"
      ],
      "metadata": {
        "id": "d2vAZPj_Wrip"
      }
    },
    {
      "cell_type": "code",
      "source": [
        "!$python scripts/predict.py --model_file $model_file --input_file $test_input_file  --predictions_file $test_preds_file"
      ],
      "metadata": {
        "colab": {
          "base_uri": "https://localhost:8080/"
        },
        "id": "o6XYbGKlWg3G",
        "outputId": "d9c0f661-3b47-4166-b0e7-6b93c6d3ca86"
      },
      "execution_count": 16,
      "outputs": [
        {
          "output_type": "stream",
          "name": "stdout",
          "text": [
            "\u001b[32m2025-05-24 22:56:42.263\u001b[0m | \u001b[1mINFO    \u001b[0m | \u001b[36m__main__\u001b[0m:\u001b[36m<module>\u001b[0m:\u001b[36m27\u001b[0m - \u001b[1mloading input data\u001b[0m\n",
            "\u001b[32m2025-05-24 22:56:42.267\u001b[0m | \u001b[1mINFO    \u001b[0m | \u001b[36m__main__\u001b[0m:\u001b[36m<module>\u001b[0m:\u001b[36m31\u001b[0m - \u001b[1mloading model\u001b[0m\n",
            "\u001b[32m2025-05-24 22:56:42.977\u001b[0m | \u001b[1mINFO    \u001b[0m | \u001b[36m__main__\u001b[0m:\u001b[36m<module>\u001b[0m:\u001b[36m35\u001b[0m - \u001b[1mmaking predictions\u001b[0m\n",
            "\u001b[32m2025-05-24 22:56:42.978\u001b[0m | \u001b[1mINFO    \u001b[0m | \u001b[36m__main__\u001b[0m:\u001b[36m<module>\u001b[0m:\u001b[36m38\u001b[0m - \u001b[1msaving predictions to test_predictions.csv\u001b[0m\n"
          ]
        }
      ]
    },
    {
      "cell_type": "markdown",
      "source": [
        "#load predictions and compare with target in test"
      ],
      "metadata": {
        "id": "RcviHiRiW2ec"
      }
    },
    {
      "cell_type": "code",
      "source": [
        "import pandas as pd\n",
        "import numpy as np\n",
        "\n",
        "preds   = pd.read_csv(test_preds_file).values\n",
        "targets = pd.read_csv(test_target_file).values\n",
        "\n",
        "acc = np.mean(preds==targets)\n",
        "print (f\"accuracy on test {acc:.3f}\")"
      ],
      "metadata": {
        "colab": {
          "base_uri": "https://localhost:8080/"
        },
        "id": "DGmVyEpRWlQh",
        "outputId": "6853e1c2-8295-44eb-a8da-b837773b4b2f"
      },
      "execution_count": 17,
      "outputs": [
        {
          "output_type": "stream",
          "name": "stdout",
          "text": [
            "accuracy on test 0.448\n"
          ]
        }
      ]
    }
  ]
}